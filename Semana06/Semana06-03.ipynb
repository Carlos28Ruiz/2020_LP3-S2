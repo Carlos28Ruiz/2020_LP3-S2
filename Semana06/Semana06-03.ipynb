{
 "cells": [
  {
   "cell_type": "markdown",
   "id": "c8e1b3cd",
   "metadata": {},
   "source": [
    "# Semana06\n",
    "Carlos Alberto Ruiz Montero\n",
    "Tema: funciones"
   ]
  },
  {
   "cell_type": "code",
   "execution_count": 1,
   "id": "f3e1bebb",
   "metadata": {},
   "outputs": [],
   "source": [
    "# Problema 01\n",
    "#Crear la siguinete Clase:\n",
    "# - Clase: Persona\n",
    "# -Atributos: nombre, apellidos, fecha_nacimiento, dni"
   ]
  },
  {
   "cell_type": "code",
   "execution_count": 2,
   "id": "365f2174",
   "metadata": {},
   "outputs": [],
   "source": [
    "class Persona:\n",
    "    nombre = \"\"\n",
    "    apellidos = \"\"\n",
    "    dni = \"\"\n",
    "    talla = 0"
   ]
  },
  {
   "cell_type": "code",
   "execution_count": 3,
   "id": "0843fed2",
   "metadata": {},
   "outputs": [
    {
     "name": "stdout",
     "output_type": "stream",
     "text": [
      "persona1\n",
      "Nombre: Pablo\n",
      "Apellidos: Perez Prado\n",
      "DNI: 12345678\n",
      "Talla: 1.7\n"
     ]
    }
   ],
   "source": [
    "# Creamos un objeto personal de la clase Personal()\n",
    "# y le asignamos valores\n",
    "# Creación del objeto Persona1\n",
    "persona1 = Persona()\n",
    "\n",
    "# Asignar valores al objeto\n",
    "persona1.nombre = \"Pablo\"\n",
    "persona1.apellidos = \"Perez Prado\"\n",
    "persona1.dni = \"12345678\"\n",
    "persona1.talla = 1.7\n",
    "\n",
    "# Para mostrar los valores del objeto:\n",
    "print(\"persona1\")\n",
    "print(f\"Nombre: {persona1.nombre}\")\n",
    "print(f\"Apellidos: {persona1.apellidos}\")\n",
    "print(f\"DNI: {persona1.dni}\")\n",
    "print(f\"Talla: {persona1.talla}\")"
   ]
  },
  {
   "cell_type": "code",
   "execution_count": 4,
   "id": "a30fdeb4",
   "metadata": {},
   "outputs": [],
   "source": [
    "# Para utilizar constructores utilizamos: _init_\n",
    "# ¿Qué es un constructor?\n",
    "# Es un método\n",
    "# Sirve para inicializar valores a una clase"
   ]
  },
  {
   "cell_type": "code",
   "execution_count": 5,
   "id": "1e5f84a1",
   "metadata": {},
   "outputs": [],
   "source": [
    "# Problema:\n",
    "# Crear la siguiente clase y utilizar constructores\n",
    "# Clase: Curso\n",
    "# Atributos: Código, Nombre, Horas,Créditos"
   ]
  },
  {
   "cell_type": "code",
   "execution_count": 9,
   "id": "6c10e4c4",
   "metadata": {},
   "outputs": [],
   "source": [
    "# Solución\n",
    "class curso:\n",
    "    def __init__(self,codigo,nombre,horas,creditos):\n",
    "        self.codigo = codigo\n",
    "        self.nombre = nombre\n",
    "        self.horas = horas\n",
    "        self.creditos = creditos\n",
    "        \n",
    "    def mostrar_Dato_curso(self):\n",
    "        print(f\"Curso: {self.nombre}\")\n",
    "        print(f\"Codigo: {self.codigo}\")\n",
    "        print(f\"Hora: {self.horas}\")\n",
    "        print(f\"Creditos: {self.creditos}\")"
   ]
  },
  {
   "cell_type": "code",
   "execution_count": 11,
   "id": "98aa054d",
   "metadata": {},
   "outputs": [],
   "source": [
    "# Creamos el objeto curso1 y le mandamos parámetros\n",
    "curso1 = curso(\"C0501\", \"LP3\",6,3)"
   ]
  },
  {
   "cell_type": "code",
   "execution_count": 12,
   "id": "cf6bbe86",
   "metadata": {},
   "outputs": [
    {
     "name": "stdout",
     "output_type": "stream",
     "text": [
      "Curso: LP3\n",
      "Codigo: C0501\n",
      "Hora: 6\n",
      "Creditos: 3\n"
     ]
    }
   ],
   "source": [
    "# Mostramos los datos completos del curso ejecutando \n",
    "curso1.mostrar_Dato_curso();"
   ]
  },
  {
   "cell_type": "code",
   "execution_count": null,
   "id": "6236ecfd",
   "metadata": {},
   "outputs": [],
   "source": []
  }
 ],
 "metadata": {
  "kernelspec": {
   "display_name": "Python 3 (ipykernel)",
   "language": "python",
   "name": "python3"
  },
  "language_info": {
   "codemirror_mode": {
    "name": "ipython",
    "version": 3
   },
   "file_extension": ".py",
   "mimetype": "text/x-python",
   "name": "python",
   "nbconvert_exporter": "python",
   "pygments_lexer": "ipython3",
   "version": "3.9.7"
  }
 },
 "nbformat": 4,
 "nbformat_minor": 5
}
