{
 "cells": [
  {
   "cell_type": "markdown",
   "id": "13e6f98a",
   "metadata": {},
   "source": [
    "# SEMANA06\n",
    "Carlos Alberto Ruiz Montero"
   ]
  },
  {
   "cell_type": "markdown",
   "id": "bcb815f1",
   "metadata": {},
   "source": [
    "Tema: Bucles y condiciones"
   ]
  },
  {
   "cell_type": "code",
   "execution_count": 1,
   "id": "2ccf53f1",
   "metadata": {},
   "outputs": [],
   "source": [
    "#Estructuras Decisivas(if,elif,else)"
   ]
  },
  {
   "cell_type": "code",
   "execution_count": 2,
   "id": "f6a35c84",
   "metadata": {},
   "outputs": [],
   "source": [
    "# if\n",
    "# Problema: Dado el precio de 3 productos ingresados por el teclado, aplicar un descuento del 10%\n",
    "# si la venta es mayor o igual a 1000"
   ]
  },
  {
   "cell_type": "code",
   "execution_count": 3,
   "id": "3056975a",
   "metadata": {},
   "outputs": [],
   "source": [
    "# Solución"
   ]
  },
  {
   "cell_type": "code",
   "execution_count": 4,
   "id": "3f2824a5",
   "metadata": {},
   "outputs": [
    {
     "name": "stdout",
     "output_type": "stream",
     "text": [
      "Producto1: 100\n",
      "Producto2: 1222\n",
      "Producto3: 22\n",
      "El total a pagar es: 1209.6000000000001\n"
     ]
    }
   ],
   "source": [
    "P1 = float(input(\"Producto1: \"))\n",
    "P2 = float(input(\"Producto2: \"))\n",
    "P3 = float(input(\"Producto3: \"))\n",
    "total = P1 + P2 + P3\n",
    "if total >= 1000 :\n",
    "    total *= 0.9\n",
    "print(f\"El total a pagar es: {total}\")"
   ]
  },
  {
   "cell_type": "code",
   "execution_count": 5,
   "id": "8590a1c5",
   "metadata": {},
   "outputs": [],
   "source": [
    "# IF-ELSE"
   ]
  },
  {
   "cell_type": "code",
   "execution_count": 6,
   "id": "3e1885a1",
   "metadata": {},
   "outputs": [],
   "source": [
    "# Problema 01 (Recordando)\n",
    "# Dado una lista de [ACUÑA, CHAVEZ, CONDORI, CONTRERAS, HINOSTROZA, LEANDRO, QUISPE, REYES, RUIZ, SAYAS, TRIGO, VASQUEZ, VERA, ZEVALLOS]\n",
    "# Diseñar el código que muestre el apellido de un estudiante (ingreso por teclado) dorma parte de la lista."
   ]
  },
  {
   "cell_type": "code",
   "execution_count": 7,
   "id": "ef7d4e1b",
   "metadata": {},
   "outputs": [
    {
     "name": "stdout",
     "output_type": "stream",
     "text": [
      "ingresa nombre a buscar: ruiz\n",
      "Si está en la lista LP3\n"
     ]
    }
   ],
   "source": [
    "# Solución\n",
    "LP3 = [\"ACUÑA\", \"CHAVEZ\", \"CONDORI\", \"CONTRERAS\", \"HINOSTROZA\", \"LEANDRO\", \"QUISPE\", \"REYES\", \"RUIZ\",\"SAYAS\", \"TRIGO\", \"VASQUEZ\", \"VERA\", \"ZEVALLOS\"]\n",
    "apellido = input(\"ingresa nombre a buscar: \")\n",
    "# Como los datos de la lista estan en mayúscula, utilizo upper()\n",
    "if apellido.upper() in LP3:\n",
    "    print(\"Si está en la lista LP3\")\n",
    "else:\n",
    "    print(\"No está en la lista de LP3\")"
   ]
  },
  {
   "cell_type": "code",
   "execution_count": 8,
   "id": "006f1c1b",
   "metadata": {},
   "outputs": [
    {
     "name": "stdout",
     "output_type": "stream",
     "text": [
      "Ingrese el importe total que realizo: 100\n",
      "Tipo de empleado A\n"
     ]
    }
   ],
   "source": [
    "# Problema 02\n",
    "# USANDO ELIF\n",
    "# Dado el importe total de ventas realizados por un trabajador(ingresado por teclado,\n",
    "# categorizar que tipo de empleado es, considerano la sigueinte tabla: \n",
    "# Categoria A -> [o, 1000]\n",
    "# Categoria B -> <1000, 2000]\n",
    "# Categoria C -> <2000, 5000]\n",
    "# Categoria D -> <5000, MÁS])\n",
    "\n",
    "IMPORTETOTAL = 0\n",
    "IMPORTETOTAL = float(input(\"Ingrese el importe total que realizo: \"))\n",
    "\n",
    "if IMPORTETOTAL <= 1000 :\n",
    "    print(\"Tipo de empleado A\")\n",
    "elif IMPORTETOTAL > 1000 and IMPORTETOTAL <= 2000:\n",
    "    print(\"Tipo de empleado B\")\n",
    "elif IMPORTETOTAL > 2000 and IMPORTETOTAL <= 5000:\n",
    "    print(\"Tipo de empleado C\")\n",
    "elif IMPORTETOTAL > 5000 :\n",
    "    print(\"Tipo de empleado D\")"
   ]
  },
  {
   "cell_type": "code",
   "execution_count": 10,
   "id": "121211d9",
   "metadata": {},
   "outputs": [
    {
     "name": "stdout",
     "output_type": "stream",
     "text": [
      "importe de ventas realizadas: 122\n",
      "Tipo de empleado A\n"
     ]
    }
   ],
   "source": [
    "# Usando IF-ELSE\n",
    "ventas = float(input(\"importe de ventas realizadas: \"))\n",
    "if ventas < 0:\n",
    "    print(\"Datos erroneos\")\n",
    "else:\n",
    "    if ventas <= 1000 :\n",
    "        print(\"Tipo de empleado A\")\n",
    "    else:\n",
    "        if ventas <= 2000:\n",
    "            print(\"Tipo de empleado B\")\n",
    "        else:\n",
    "            if ventas <= 5000:\n",
    "                print(\"Tipo de empleado C\")\n",
    "            else: \n",
    "                print(\"Tipo de empleado D\")\n"
   ]
  },
  {
   "cell_type": "code",
   "execution_count": 11,
   "id": "86d115d9",
   "metadata": {},
   "outputs": [],
   "source": [
    "# Estructura for"
   ]
  },
  {
   "cell_type": "code",
   "execution_count": 12,
   "id": "f9372869",
   "metadata": {},
   "outputs": [
    {
     "name": "stdout",
     "output_type": "stream",
     "text": [
      "Acuña\n",
      "Chavez\n",
      "Condori\n",
      "Contreras\n"
     ]
    }
   ],
   "source": [
    "aula = [\"Acuña\", \"Chavez\", \"Condori\", \"Contreras\"]\n",
    "\n",
    "# Por cada alumno que está en la lista, imprimir alumno\n",
    "for alumno in aula:\n",
    "    print(alumno)"
   ]
  },
  {
   "cell_type": "code",
   "execution_count": 13,
   "id": "7c7d84d7",
   "metadata": {},
   "outputs": [
    {
     "name": "stdout",
     "output_type": "stream",
     "text": [
      "Ingrese cadena: \n"
     ]
    }
   ],
   "source": [
    "#Problema 02:\n",
    "# Dado la cadena ingresado por teclado, mostrar cada caracter, utilizando for.\n",
    "# Solución:\n",
    "cadena = input(\"Ingrese cadena: \")\n",
    "for caracter in cadena:\n",
    "    print(caracter)"
   ]
  },
  {
   "cell_type": "code",
   "execution_count": 14,
   "id": "d0db5f45",
   "metadata": {},
   "outputs": [
    {
     "name": "stdout",
     "output_type": "stream",
     "text": [
      "0\n",
      "1\n",
      "2\n",
      "3\n",
      "4\n",
      "5\n",
      "6\n",
      "7\n",
      "8\n",
      "9\n",
      "10\n"
     ]
    }
   ],
   "source": [
    "# Problema 03\n",
    "# Imprimir los numeros del 0 al 10\n",
    "for numero in range(11):\n",
    "    print(numero)"
   ]
  },
  {
   "cell_type": "code",
   "execution_count": 15,
   "id": "0b460be5",
   "metadata": {},
   "outputs": [
    {
     "name": "stdout",
     "output_type": "stream",
     "text": [
      "5\n",
      "6\n",
      "7\n",
      "8\n",
      "9\n",
      "10\n"
     ]
    }
   ],
   "source": [
    "# problema 04\n",
    "# Imprimir los numeros del 5 a 10, utilizando for\n",
    "for numero in range(5,11):\n",
    "    print(numero)"
   ]
  },
  {
   "cell_type": "code",
   "execution_count": 16,
   "id": "f002e440",
   "metadata": {},
   "outputs": [
    {
     "name": "stdout",
     "output_type": "stream",
     "text": [
      "10\n",
      "12\n",
      "14\n",
      "16\n",
      "18\n",
      "20\n"
     ]
    }
   ],
   "source": [
    "#Problema 05\n",
    "# Imprimir los numeros de 10 a 20, que valla de dos en dos utilizando for\n",
    "for numero in range(10,22,2):\n",
    "    print(numero)"
   ]
  },
  {
   "cell_type": "code",
   "execution_count": 17,
   "id": "b94ca684",
   "metadata": {},
   "outputs": [],
   "source": [
    "# Tambien funcionan los bucles anidados:"
   ]
  },
  {
   "cell_type": "code",
   "execution_count": 32,
   "id": "9827f319",
   "metadata": {},
   "outputs": [
    {
     "name": "stdout",
     "output_type": "stream",
     "text": [
      "1\n",
      "4\n",
      "5\n",
      "10\n",
      "12\n"
     ]
    }
   ],
   "source": [
    "# Problema 06\n",
    "# Dado una lista de números, utilizando el algoritmo de burbuja oordenarlos de menor a mayor\n",
    "# package ordenamiento;\n",
    "# public class burbuja {\n",
    "#    public static void main(String[] args) {\n",
    "#        int temp; \n",
    "#        int lista[]={12,5,1,4,10,0};\n",
    "#        for(int i=0;i<lista.length-1;i++){\n",
    "#            for(int j=i+1; j<lista.length; j++){\n",
    "#                if(lista[i]>lista[j]){\n",
    "#                    temp = lista[i];\n",
    "#                    lista[i] = lista[j];\n",
    "#                    lista[j] = temp;\n",
    "#                }                              \n",
    "#            }            \n",
    "#\n",
    "#temp = 0\n",
    "lista = {12,5,1,4,10,0}\n",
    "for numero1 in lista:\n",
    "    for numero2 in lista:\n",
    "        if numero1 > numero2:\n",
    "            temp = numero1\n",
    "            numero1 = numero2\n",
    "            numero2 = temp\n",
    "            print(temp)"
   ]
  },
  {
   "cell_type": "code",
   "execution_count": 33,
   "id": "3d22ebec",
   "metadata": {},
   "outputs": [
    {
     "name": "stdout",
     "output_type": "stream",
     "text": [
      "[0, 1, 4, 5, 10, 12]\n"
     ]
    }
   ],
   "source": [
    "lista = [12,5,1,4,10,0]\n",
    "i=0\n",
    "for i in range(0,len(lista)-1):\n",
    "    for j in range(i+1,len(lista)):\n",
    "        if lista[i] > lista[j]:\n",
    "            temp = lista[i]\n",
    "            lista[i] = lista[j]\n",
    "            lista[j] = temp\n",
    "print(lista)"
   ]
  }
 ],
 "metadata": {
  "kernelspec": {
   "display_name": "Python 3 (ipykernel)",
   "language": "python",
   "name": "python3"
  },
  "language_info": {
   "codemirror_mode": {
    "name": "ipython",
    "version": 3
   },
   "file_extension": ".py",
   "mimetype": "text/x-python",
   "name": "python",
   "nbconvert_exporter": "python",
   "pygments_lexer": "ipython3",
   "version": "3.9.7"
  }
 },
 "nbformat": 4,
 "nbformat_minor": 5
}
