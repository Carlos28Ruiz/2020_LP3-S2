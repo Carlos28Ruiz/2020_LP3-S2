{
 "cells": [
  {
   "cell_type": "markdown",
   "id": "2344530b",
   "metadata": {},
   "source": [
    "# Semana06\n",
    "Carlos Ruiz Montero\n",
    "\n",
    "Tema: Funciones"
   ]
  },
  {
   "cell_type": "code",
   "execution_count": 4,
   "id": "8d31e2c7",
   "metadata": {},
   "outputs": [],
   "source": [
    "# Tambien son conocidos como métodos\n",
    "\n",
    "# Para crear un método utilizamos: def\n",
    "# Tenemos 4 métodos:\n",
    "# - Métodos Vacíos\n",
    "# - Métodos que reciben valores\n",
    "# - Métodos que devuelven valores\n",
    "# - Métodos que reciben y devuelven valores"
   ]
  },
  {
   "cell_type": "code",
   "execution_count": null,
   "id": "94f77279",
   "metadata": {},
   "outputs": [],
   "source": []
  }
 ],
 "metadata": {
  "kernelspec": {
   "display_name": "Python 3 (ipykernel)",
   "language": "python",
   "name": "python3"
  },
  "language_info": {
   "codemirror_mode": {
    "name": "ipython",
    "version": 3
   },
   "file_extension": ".py",
   "mimetype": "text/x-python",
   "name": "python",
   "nbconvert_exporter": "python",
   "pygments_lexer": "ipython3",
   "version": "3.9.7"
  }
 },
 "nbformat": 4,
 "nbformat_minor": 5
}
