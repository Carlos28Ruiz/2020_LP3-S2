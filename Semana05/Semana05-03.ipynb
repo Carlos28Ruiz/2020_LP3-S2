{
 "cells": [
  {
   "cell_type": "markdown",
   "id": "1700d6dc",
   "metadata": {},
   "source": [
    "# Semana 05\n",
    "Carlos Alberto Ruiz Montero"
   ]
  },
  {
   "cell_type": "markdown",
   "id": "146e1b06",
   "metadata": {},
   "source": [
    "# Temas:\n",
    "1. Números\n",
    "2. Variables\n",
    "3. Manejo de cadenas\n",
    "4. Ingreso de datos por teclado\n",
    "5. Operadores"
   ]
  },
  {
   "cell_type": "markdown",
   "id": "753cbb3a",
   "metadata": {},
   "source": [
    "3. Manejo de cadena"
   ]
  },
  {
   "cell_type": "code",
   "execution_count": 1,
   "id": "aee4b829",
   "metadata": {},
   "outputs": [
    {
     "data": {
      "text/plain": [
       "'Universidad Nacional Tecnologica de Lima Sur'"
      ]
     },
     "execution_count": 1,
     "metadata": {},
     "output_type": "execute_result"
    }
   ],
   "source": [
    "cadena = \"Universidad Nacional Tecnologica de Lima Sur\"\n",
    "cadena"
   ]
  },
  {
   "cell_type": "code",
   "execution_count": 2,
   "id": "5e48ea2c",
   "metadata": {},
   "outputs": [],
   "source": [
    "#Universidad Nacional Tecnologica de Lima Sur\n",
    "#01234..........                           -3 -2 -1"
   ]
  },
  {
   "cell_type": "code",
   "execution_count": 3,
   "id": "d4c87882",
   "metadata": {},
   "outputs": [
    {
     "data": {
      "text/plain": [
       "'r'"
      ]
     },
     "execution_count": 3,
     "metadata": {},
     "output_type": "execute_result"
    }
   ],
   "source": [
    "cadena[5]"
   ]
  },
  {
   "cell_type": "code",
   "execution_count": 4,
   "id": "da35a283",
   "metadata": {},
   "outputs": [
    {
     "data": {
      "text/plain": [
       "'d'"
      ]
     },
     "execution_count": 4,
     "metadata": {},
     "output_type": "execute_result"
    }
   ],
   "source": [
    "cadena[10]"
   ]
  },
  {
   "cell_type": "code",
   "execution_count": 5,
   "id": "20e357aa",
   "metadata": {},
   "outputs": [
    {
     "data": {
      "text/plain": [
       "' '"
      ]
     },
     "execution_count": 5,
     "metadata": {},
     "output_type": "execute_result"
    }
   ],
   "source": [
    "# También considera los espacios\n",
    "cadena[11]"
   ]
  },
  {
   "cell_type": "code",
   "execution_count": 6,
   "id": "7d0ad069",
   "metadata": {},
   "outputs": [
    {
     "data": {
      "text/plain": [
       "'a'"
      ]
     },
     "execution_count": 6,
     "metadata": {},
     "output_type": "execute_result"
    }
   ],
   "source": [
    "# ¿Qué me mostrara?\n",
    "cadena[-5]"
   ]
  },
  {
   "cell_type": "code",
   "execution_count": 7,
   "id": "d52d9201",
   "metadata": {},
   "outputs": [
    {
     "data": {
      "text/plain": [
       "'T'"
      ]
     },
     "execution_count": 7,
     "metadata": {},
     "output_type": "execute_result"
    }
   ],
   "source": [
    "cadena[21]"
   ]
  },
  {
   "cell_type": "code",
   "execution_count": 8,
   "id": "79a1408d",
   "metadata": {},
   "outputs": [
    {
     "data": {
      "text/plain": [
       "'T'"
      ]
     },
     "execution_count": 8,
     "metadata": {},
     "output_type": "execute_result"
    }
   ],
   "source": [
    "# También lo puedo mostrar accdiendo de manera inversa\n",
    "cadena[-23]"
   ]
  },
  {
   "cell_type": "code",
   "execution_count": 9,
   "id": "150a26b7",
   "metadata": {},
   "outputs": [
    {
     "data": {
      "text/plain": [
       "'versi'"
      ]
     },
     "execution_count": 9,
     "metadata": {},
     "output_type": "execute_result"
    }
   ],
   "source": [
    "# Para mostrar un subcadena [desde, hasta una nates]\n",
    "# En Java era substring()\n",
    "cadena[3:8]"
   ]
  },
  {
   "cell_type": "code",
   "execution_count": 10,
   "id": "eed78fa9",
   "metadata": {},
   "outputs": [
    {
     "data": {
      "text/plain": [
       "44"
      ]
     },
     "execution_count": 10,
     "metadata": {},
     "output_type": "execute_result"
    }
   ],
   "source": [
    "# Para saber el tamaño de una cadena utilizamos len()\n",
    "# incluye los espacios en blanco()\n",
    "len(cadena)"
   ]
  },
  {
   "cell_type": "code",
   "execution_count": 12,
   "id": "d6b7fdaf",
   "metadata": {},
   "outputs": [
    {
     "data": {
      "text/plain": [
       "'UNIVERSIDAD NACIONAL TECNOLOGICA DE LIMA SUR'"
      ]
     },
     "execution_count": 12,
     "metadata": {},
     "output_type": "execute_result"
    }
   ],
   "source": [
    "#Para mostrar una cadena en mayúscula utilizamos upper()\n",
    "cadena.upper()"
   ]
  },
  {
   "cell_type": "code",
   "execution_count": 13,
   "id": "72668146",
   "metadata": {},
   "outputs": [
    {
     "data": {
      "text/plain": [
       "'Universidad Nacional Tecnologica de Lima Sur'"
      ]
     },
     "execution_count": 13,
     "metadata": {},
     "output_type": "execute_result"
    }
   ],
   "source": [
    "# Ojo... solo lo muestra, porque el original sigue siendo igual\n",
    "cadena"
   ]
  },
  {
   "cell_type": "code",
   "execution_count": 14,
   "id": "6272b3f7",
   "metadata": {},
   "outputs": [
    {
     "data": {
      "text/plain": [
       "'UNIVERSIDAD NACIONAL TECNOLOGICA DE LIMA SUR'"
      ]
     },
     "execution_count": 14,
     "metadata": {},
     "output_type": "execute_result"
    }
   ],
   "source": [
    "#si desearas cambiarlo harias: cadena = cadena.upper()\n",
    "cadena = cadena.upper()\n",
    "cadena"
   ]
  },
  {
   "cell_type": "code",
   "execution_count": 15,
   "id": "07c774a3",
   "metadata": {},
   "outputs": [
    {
     "data": {
      "text/plain": [
       "'universidad nacional tecnologica de lima sur'"
      ]
     },
     "execution_count": 15,
     "metadata": {},
     "output_type": "execute_result"
    }
   ],
   "source": [
    "# Para mostrar una cadena en minúsculas utilizamos lower()\n",
    "cadena.lower()"
   ]
  },
  {
   "cell_type": "code",
   "execution_count": 16,
   "id": "a41de4b4",
   "metadata": {},
   "outputs": [
    {
     "data": {
      "text/plain": [
       "['UNIVERSIDAD', 'NACIONAL', 'TECNOLOGICA', 'DE', 'LIMA', 'SUR']"
      ]
     },
     "execution_count": 16,
     "metadata": {},
     "output_type": "execute_result"
    }
   ],
   "source": [
    "# Genera una lista a partir de una cadena  split()\n",
    "cadena.split()"
   ]
  },
  {
   "cell_type": "code",
   "execution_count": 17,
   "id": "99ef1a1a",
   "metadata": {},
   "outputs": [
    {
     "data": {
      "text/plain": [
       "['UNIVERSID', 'D N', 'CION', 'L TECNOLOGIC', ' DE LIM', ' SUR']"
      ]
     },
     "execution_count": 17,
     "metadata": {},
     "output_type": "execute_result"
    }
   ],
   "source": [
    "# Generar una lista utilizando un criterio de separación a partir de una cadena .split()\n",
    "# En este caso vamos a generar una lista de toda la cadena utilizando como criterio de separacion la letra \"A\"\n",
    "cadena.split(\"A\")"
   ]
  },
  {
   "cell_type": "code",
   "execution_count": 18,
   "id": "39e0f198",
   "metadata": {},
   "outputs": [
    {
     "name": "stdout",
     "output_type": "stream",
     "text": [
      "Buenas tardes Carlos Ruiz\n"
     ]
    }
   ],
   "source": [
    "# Forma clásica, concatenar con +\n",
    "nombre = \"Carlos Ruiz\"\n",
    "print(\"Buenas tardes \" + nombre)"
   ]
  },
  {
   "cell_type": "code",
   "execution_count": 22,
   "id": "b4f50bc2",
   "metadata": {},
   "outputs": [
    {
     "name": "stdout",
     "output_type": "stream",
     "text": [
      "Hola Pepito Perez ya se que tienes 10 años\n"
     ]
    }
   ],
   "source": [
    "# Utilizando el .format()\n",
    "nombre = \"Pepito Perez\"\n",
    "edad = 10\n",
    "print(\"Hola {} ya se que tienes {} años\".format(nombre,edad))"
   ]
  },
  {
   "cell_type": "code",
   "execution_count": 24,
   "id": "5c8ad197",
   "metadata": {},
   "outputs": [
    {
     "name": "stdout",
     "output_type": "stream",
     "text": [
      "10/3 es = 3.3333333333333335\n",
      "10/3 es = 3.333 \n"
     ]
    }
   ],
   "source": [
    "# Dar formato a números con muchos decimales\n",
    "resultado = 10/3\n",
    "print(\"10/3 es = {}\".format(resultado))\n",
    "print(\"10/3 es = {r:1.3f} \".format(r=resultado))"
   ]
  },
  {
   "cell_type": "code",
   "execution_count": 26,
   "id": "757c7ea9",
   "metadata": {},
   "outputs": [
    {
     "name": "stdout",
     "output_type": "stream",
     "text": [
      "Buenos días Pablito Calvo, ya se que tienes 10 años\n"
     ]
    }
   ],
   "source": [
    "# Dar formato con f\n",
    "#la función f está disponible desde la versión 3.6\n",
    "nombre = \"Pablito Calvo\"\n",
    "edad = edad\n",
    "print(f\"Buenos días {nombre}, ya se que tienes {edad} años\")"
   ]
  },
  {
   "cell_type": "code",
   "execution_count": 27,
   "id": "dc5919f2",
   "metadata": {},
   "outputs": [
    {
     "name": "stdout",
     "output_type": "stream",
     "text": [
      "10/3 es = 3.3333333333333335 \n",
      "10/3 es = 3.333\n"
     ]
    }
   ],
   "source": [
    "# Dar formato a número con muchos decimales f\n",
    "resultado = 10/3\n",
    "print(f\"10/3 es = {resultado} \")\n",
    "print(f\"10/3 es = {resultado:1.3f}\")"
   ]
  }
 ],
 "metadata": {
  "kernelspec": {
   "display_name": "Python 3 (ipykernel)",
   "language": "python",
   "name": "python3"
  },
  "language_info": {
   "codemirror_mode": {
    "name": "ipython",
    "version": 3
   },
   "file_extension": ".py",
   "mimetype": "text/x-python",
   "name": "python",
   "nbconvert_exporter": "python",
   "pygments_lexer": "ipython3",
   "version": "3.9.7"
  }
 },
 "nbformat": 4,
 "nbformat_minor": 5
}
