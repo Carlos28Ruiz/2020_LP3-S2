{
 "cells": [
  {
   "cell_type": "markdown",
   "id": "b151129f",
   "metadata": {},
   "source": [
    "# Semana 05\n",
    "Carlos Alberto Ruiz Montero\n"
   ]
  },
  {
   "cell_type": "markdown",
   "id": "17605bc4",
   "metadata": {},
   "source": [
    "# Temas:\n",
    "1. Números\n",
    "2. Variables\n",
    "3. Manejo de cadenas\n",
    "4. Ingreso de datos por teclado\n",
    "5. Operadores"
   ]
  },
  {
   "cell_type": "markdown",
   "id": "a00ce61b",
   "metadata": {},
   "source": [
    "2. Variables"
   ]
  },
  {
   "cell_type": "raw",
   "id": "d8c35ea9",
   "metadata": {},
   "source": [
    "Siempre deben iniciar con una letra o un guión abajo. (Nunca con un número u otro signo)"
   ]
  },
  {
   "cell_type": "code",
   "execution_count": 1,
   "id": "e0483bf4",
   "metadata": {},
   "outputs": [],
   "source": [
    "edad = 41"
   ]
  },
  {
   "cell_type": "code",
   "execution_count": 2,
   "id": "0ab3b1d0",
   "metadata": {},
   "outputs": [
    {
     "data": {
      "text/plain": [
       "41"
      ]
     },
     "execution_count": 2,
     "metadata": {},
     "output_type": "execute_result"
    }
   ],
   "source": [
    "edad"
   ]
  },
  {
   "cell_type": "code",
   "execution_count": 3,
   "id": "4d22dce1",
   "metadata": {},
   "outputs": [],
   "source": [
    "nombre = \"Carlos\""
   ]
  },
  {
   "cell_type": "code",
   "execution_count": 4,
   "id": "db984928",
   "metadata": {},
   "outputs": [
    {
     "data": {
      "text/plain": [
       "'Carlos'"
      ]
     },
     "execution_count": 4,
     "metadata": {},
     "output_type": "execute_result"
    }
   ],
   "source": [
    "nombre"
   ]
  },
  {
   "cell_type": "code",
   "execution_count": 5,
   "id": "cf907bd2",
   "metadata": {},
   "outputs": [],
   "source": [
    "apellido = \"Ruiz Montero\""
   ]
  },
  {
   "cell_type": "code",
   "execution_count": 6,
   "id": "137e57be",
   "metadata": {},
   "outputs": [
    {
     "data": {
      "text/plain": [
       "'Ruiz Montero'"
      ]
     },
     "execution_count": 6,
     "metadata": {},
     "output_type": "execute_result"
    }
   ],
   "source": [
    "apellido"
   ]
  },
  {
   "cell_type": "code",
   "execution_count": 7,
   "id": "262ebfe0",
   "metadata": {},
   "outputs": [],
   "source": [
    "nombrecompleto = nombre + apellido"
   ]
  },
  {
   "cell_type": "code",
   "execution_count": 8,
   "id": "69a5c9b6",
   "metadata": {},
   "outputs": [
    {
     "data": {
      "text/plain": [
       "'CarlosRuiz Montero'"
      ]
     },
     "execution_count": 8,
     "metadata": {},
     "output_type": "execute_result"
    }
   ],
   "source": [
    "nombrecompleto"
   ]
  },
  {
   "cell_type": "code",
   "execution_count": 9,
   "id": "1c36234f",
   "metadata": {},
   "outputs": [],
   "source": [
    "nombrecompleto = nombre + \" \" + apellido"
   ]
  },
  {
   "cell_type": "code",
   "execution_count": 10,
   "id": "e6c33fff",
   "metadata": {},
   "outputs": [
    {
     "data": {
      "text/plain": [
       "'Carlos Ruiz Montero'"
      ]
     },
     "execution_count": 10,
     "metadata": {},
     "output_type": "execute_result"
    }
   ],
   "source": [
    "nombrecompleto"
   ]
  },
  {
   "cell_type": "markdown",
   "id": "8c481fe8",
   "metadata": {},
   "source": [
    "# Para saber le tipo de varibale utilizamos la función type()\n",
    "# Por ejemplo:"
   ]
  },
  {
   "cell_type": "code",
   "execution_count": 11,
   "id": "6770f857",
   "metadata": {},
   "outputs": [
    {
     "data": {
      "text/plain": [
       "int"
      ]
     },
     "execution_count": 11,
     "metadata": {},
     "output_type": "execute_result"
    }
   ],
   "source": [
    "numero = 50\n",
    "type(numero)"
   ]
  },
  {
   "cell_type": "code",
   "execution_count": 12,
   "id": "64caf9f2",
   "metadata": {},
   "outputs": [
    {
     "data": {
      "text/plain": [
       "str"
      ]
     },
     "execution_count": 12,
     "metadata": {},
     "output_type": "execute_result"
    }
   ],
   "source": [
    "type(nombre)"
   ]
  },
  {
   "cell_type": "code",
   "execution_count": 13,
   "id": "ca7894fa",
   "metadata": {},
   "outputs": [],
   "source": [
    "talla = 1.68"
   ]
  },
  {
   "cell_type": "code",
   "execution_count": 14,
   "id": "65fabb8c",
   "metadata": {},
   "outputs": [
    {
     "data": {
      "text/plain": [
       "1.68"
      ]
     },
     "execution_count": 14,
     "metadata": {},
     "output_type": "execute_result"
    }
   ],
   "source": [
    "talla"
   ]
  },
  {
   "cell_type": "code",
   "execution_count": 15,
   "id": "fd96bccb",
   "metadata": {},
   "outputs": [
    {
     "data": {
      "text/plain": [
       "float"
      ]
     },
     "execution_count": 15,
     "metadata": {},
     "output_type": "execute_result"
    }
   ],
   "source": [
    "type(talla)"
   ]
  },
  {
   "cell_type": "code",
   "execution_count": 16,
   "id": "0ab38a58",
   "metadata": {},
   "outputs": [],
   "source": [
    "# Para convertir un numero en cadena utilizamos str()"
   ]
  },
  {
   "cell_type": "code",
   "execution_count": 17,
   "id": "e9f43709",
   "metadata": {},
   "outputs": [
    {
     "data": {
      "text/plain": [
       "'100'"
      ]
     },
     "execution_count": 17,
     "metadata": {},
     "output_type": "execute_result"
    }
   ],
   "source": [
    "numero = 100\n",
    "cadena = str(numero)\n",
    "cadena"
   ]
  },
  {
   "cell_type": "code",
   "execution_count": 18,
   "id": "a5f4cfbb",
   "metadata": {},
   "outputs": [
    {
     "data": {
      "text/plain": [
       "str"
      ]
     },
     "execution_count": 18,
     "metadata": {},
     "output_type": "execute_result"
    }
   ],
   "source": [
    "type(cadena)"
   ]
  },
  {
   "cell_type": "code",
   "execution_count": 19,
   "id": "97ef3b4f",
   "metadata": {},
   "outputs": [
    {
     "data": {
      "text/plain": [
       "50"
      ]
     },
     "execution_count": 19,
     "metadata": {},
     "output_type": "execute_result"
    }
   ],
   "source": [
    "# Para convertir un número a cadena en un entero utilizamos int()\n",
    "cadena2 = \"50\"\n",
    "numero2 = int(cadena2)\n",
    "numero2"
   ]
  },
  {
   "cell_type": "code",
   "execution_count": 20,
   "id": "52fee5f8",
   "metadata": {},
   "outputs": [
    {
     "data": {
      "text/plain": [
       "int"
      ]
     },
     "execution_count": 20,
     "metadata": {},
     "output_type": "execute_result"
    }
   ],
   "source": [
    "type(numero2)"
   ]
  },
  {
   "cell_type": "code",
   "execution_count": 22,
   "id": "8b45feb7",
   "metadata": {},
   "outputs": [
    {
     "data": {
      "text/plain": [
       "50.0"
      ]
     },
     "execution_count": 22,
     "metadata": {},
     "output_type": "execute_result"
    }
   ],
   "source": [
    "# Para convertir una cadena a u décimal utilizamos float()\n",
    "cadena2 = \"50\"\n",
    "numero2 = float(cadena2)\n",
    "numero2"
   ]
  },
  {
   "cell_type": "code",
   "execution_count": 23,
   "id": "24945960",
   "metadata": {},
   "outputs": [
    {
     "data": {
      "text/plain": [
       "float"
      ]
     },
     "execution_count": 23,
     "metadata": {},
     "output_type": "execute_result"
    }
   ],
   "source": [
    "type(numero2)"
   ]
  }
 ],
 "metadata": {
  "kernelspec": {
   "display_name": "Python 3 (ipykernel)",
   "language": "python",
   "name": "python3"
  },
  "language_info": {
   "codemirror_mode": {
    "name": "ipython",
    "version": 3
   },
   "file_extension": ".py",
   "mimetype": "text/x-python",
   "name": "python",
   "nbconvert_exporter": "python",
   "pygments_lexer": "ipython3",
   "version": "3.9.7"
  }
 },
 "nbformat": 4,
 "nbformat_minor": 5
}
