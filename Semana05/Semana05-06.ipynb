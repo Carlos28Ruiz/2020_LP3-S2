{
 "cells": [
  {
   "cell_type": "markdown",
   "id": "eb060d4f",
   "metadata": {},
   "source": [
    "# Semana 05\n",
    "Carlos Alberto Ruiz Montero"
   ]
  },
  {
   "cell_type": "markdown",
   "id": "1f5b4c5a",
   "metadata": {},
   "source": [
    "# Temas:\n",
    "6. Colecciones de Datos\n",
    "7. Estructuras decisivas y estructuras repetitivas\n",
    "8. Clases y objetos\n",
    "9. Funciones"
   ]
  },
  {
   "cell_type": "markdown",
   "id": "1921404a",
   "metadata": {},
   "source": [
    "6. Coleciones de Datos"
   ]
  },
  {
   "cell_type": "code",
   "execution_count": 32,
   "id": "6dd180dd",
   "metadata": {},
   "outputs": [
    {
     "name": "stdout",
     "output_type": "stream",
     "text": [
      "['Vasquez', 'Reyes', 'Condori', 'Martinez']\n"
     ]
    }
   ],
   "source": [
    "# listas\n",
    "# es una colección de elementos que puede ser ordenada, modificada, etc...\n",
    "# Se identifica por los corchetes\n",
    "# Ejemplo:\n",
    "aula = ['Vasquez', 'Reyes', 'Condori', 'Martinez']\n",
    "print(aula)"
   ]
  },
  {
   "cell_type": "code",
   "execution_count": 33,
   "id": "1bd95874",
   "metadata": {},
   "outputs": [
    {
     "data": {
      "text/plain": [
       "['Vasquez', 'Reyes', 'Condori', 'Martinez']"
      ]
     },
     "execution_count": 33,
     "metadata": {},
     "output_type": "execute_result"
    }
   ],
   "source": [
    "# También se puede imprimir con solo mencionar la lista\n",
    "aula"
   ]
  },
  {
   "cell_type": "code",
   "execution_count": 34,
   "id": "43ea3f43",
   "metadata": {},
   "outputs": [],
   "source": [
    "# PODEMOS EXTRAER CADA ELEMENTO POR SU POSICIÓN"
   ]
  },
  {
   "cell_type": "code",
   "execution_count": 35,
   "id": "a97ceb99",
   "metadata": {},
   "outputs": [
    {
     "name": "stdout",
     "output_type": "stream",
     "text": [
      "Vasquez\n",
      "Reyes\n"
     ]
    }
   ],
   "source": [
    "print(aula[0])\n",
    "print(aula[1])"
   ]
  },
  {
   "cell_type": "code",
   "execution_count": 36,
   "id": "8b563368",
   "metadata": {},
   "outputs": [
    {
     "data": {
      "text/plain": [
       "'Sayas'"
      ]
     },
     "execution_count": 36,
     "metadata": {},
     "output_type": "execute_result"
    }
   ],
   "source": [
    "# puedo asignar un valor a una posición de la lista\n",
    "aula[1] = 'Sayas'\n",
    "aula[1]"
   ]
  },
  {
   "cell_type": "code",
   "execution_count": 37,
   "id": "7c7de04c",
   "metadata": {},
   "outputs": [
    {
     "data": {
      "text/plain": [
       "['Vasquez', 'Sayas', 'Condori', 'Martinez']"
      ]
     },
     "execution_count": 37,
     "metadata": {},
     "output_type": "execute_result"
    }
   ],
   "source": [
    "# Mostramos como quedó la lista\n",
    "aula"
   ]
  },
  {
   "cell_type": "code",
   "execution_count": 38,
   "id": "56b0c884",
   "metadata": {},
   "outputs": [
    {
     "data": {
      "text/plain": [
       "['Vasquez', 'Sayas', 'Condori', 'Martinez', 'Trigos', 'Condori']"
      ]
     },
     "execution_count": 38,
     "metadata": {},
     "output_type": "execute_result"
    }
   ],
   "source": [
    "# Para agregar un elemento utilizamos append\n",
    "aula.append(\"Trigos\")\n",
    "aula.append(\"Condori\")\n",
    "aula"
   ]
  },
  {
   "cell_type": "code",
   "execution_count": 39,
   "id": "8180c269",
   "metadata": {},
   "outputs": [
    {
     "data": {
      "text/plain": [
       "['Vasquez', 'Condori', 'Martinez', 'Trigos', 'Condori']"
      ]
     },
     "execution_count": 39,
     "metadata": {},
     "output_type": "execute_result"
    }
   ],
   "source": [
    "# Para eliminar elementos utilizamos remove[]\n",
    "aula.remove(\"Sayas\")\n",
    "aula"
   ]
  },
  {
   "cell_type": "code",
   "execution_count": 40,
   "id": "e67f07a0",
   "metadata": {},
   "outputs": [],
   "source": [
    "# Si hubiera varios elementos de valores iguales se elimina la primera coincidencia"
   ]
  },
  {
   "cell_type": "code",
   "execution_count": 41,
   "id": "af5ed647",
   "metadata": {},
   "outputs": [
    {
     "data": {
      "text/plain": [
       "['Vasquez', 'Martinez', 'Trigos', 'Condori']"
      ]
     },
     "execution_count": 41,
     "metadata": {},
     "output_type": "execute_result"
    }
   ],
   "source": [
    "aula.remove(\"Condori\")\n",
    "aula"
   ]
  },
  {
   "cell_type": "code",
   "execution_count": 42,
   "id": "9636679d",
   "metadata": {},
   "outputs": [
    {
     "data": {
      "text/plain": [
       "4"
      ]
     },
     "execution_count": 42,
     "metadata": {},
     "output_type": "execute_result"
    }
   ],
   "source": [
    "# Para obtener el tamaño utilizamos len()\n",
    "len(aula)"
   ]
  },
  {
   "cell_type": "code",
   "execution_count": 43,
   "id": "efccbbc5",
   "metadata": {},
   "outputs": [
    {
     "name": "stdout",
     "output_type": "stream",
     "text": [
      "Vasquez\n",
      "Martinez\n",
      "Trigos\n",
      "Condori\n"
     ]
    }
   ],
   "source": [
    "# Para recorrer podemos utilizar una estructura repetitiva\n",
    "for alumno in aula:\n",
    "    print(alumno)"
   ]
  },
  {
   "cell_type": "code",
   "execution_count": 44,
   "id": "73dcbf36",
   "metadata": {},
   "outputs": [
    {
     "data": {
      "text/plain": [
       "['Condori', 'Trigos', 'Martinez', 'Vasquez']"
      ]
     },
     "execution_count": 44,
     "metadata": {},
     "output_type": "execute_result"
    }
   ],
   "source": [
    "# Para invertir la lista utilizamos reverse()\n",
    "# Invertir no significa ordenar en forma descendete sino invertir la lista\n",
    "aula.reverse()\n",
    "aula"
   ]
  },
  {
   "cell_type": "code",
   "execution_count": 45,
   "id": "4f4921e0",
   "metadata": {},
   "outputs": [
    {
     "data": {
      "text/plain": [
       "['Condori', 'Martinez', 'Trigos', 'Vasquez']"
      ]
     },
     "execution_count": 45,
     "metadata": {},
     "output_type": "execute_result"
    }
   ],
   "source": [
    "# Para ordenar una lista utilizamos sort()\n",
    "aula.sort()\n",
    "aula"
   ]
  },
  {
   "cell_type": "code",
   "execution_count": 49,
   "id": "7a3bf7cf",
   "metadata": {},
   "outputs": [
    {
     "data": {
      "text/plain": [
       "('Vasquez', 'Reyes', 'Condori', 'Martinez')"
      ]
     },
     "execution_count": 49,
     "metadata": {},
     "output_type": "execute_result"
    }
   ],
   "source": [
    "# Tuplas\n",
    "# Es una colección de elementos ordenado (ordenado significa que tiene un índice) que no se puede modificar,es inalterante.\n",
    "# No se puede agregar elementos ni eliminar.\n",
    "# Se identifica por los paréntesis\n",
    "tupla_aula = ('Vasquez', 'Reyes','Condori', 'Martinez')\n",
    "tupla_aula"
   ]
  }
 ],
 "metadata": {
  "kernelspec": {
   "display_name": "Python 3 (ipykernel)",
   "language": "python",
   "name": "python3"
  },
  "language_info": {
   "codemirror_mode": {
    "name": "ipython",
    "version": 3
   },
   "file_extension": ".py",
   "mimetype": "text/x-python",
   "name": "python",
   "nbconvert_exporter": "python",
   "pygments_lexer": "ipython3",
   "version": "3.9.7"
  }
 },
 "nbformat": 4,
 "nbformat_minor": 5
}
